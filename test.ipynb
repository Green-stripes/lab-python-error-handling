{
 "cells": [
  {
   "cell_type": "code",
   "execution_count": 7,
   "metadata": {},
   "outputs": [
    {
     "name": "stdout",
     "output_type": "stream",
     "text": [
      "1715872247.326427\n",
      "-0.000514984130859375\n"
     ]
    }
   ],
   "source": [
    "# import time\n",
    "\n",
    "# start = time.time()\n",
    "# now = time.CLOCK_REALTIME\n",
    "# print(now)\n",
    "# # your code...\n",
    "# end = time.time()\n",
    "# print(end - start)\n",
    "\n",
    "\n",
    "# for i in range()\n",
    "\n",
    "\n",
    "\n",
    "# from timeit import default_timer as timer\n",
    "\n",
    "# start = timer()\n",
    "# print(start)\n",
    "# # your code...\n",
    "# end = timer()\n",
    "# print(end - start) # time in seconds\n",
    "\n",
    "\n",
    "import time\n",
    "\n",
    "# Timer starts\n",
    "starttime = time.time()\n",
    "print(starttime)\n",
    "time_now = time.time()\n",
    "time_duration = starttime - time.time()\n",
    "print(time_duration)\n",
    "# # lapnum = 1\n",
    "# value = \"\"\n",
    "\n",
    "# # print(\"Press ENTER for each lap.\\nType Q and press ENTER to stop.\")\n",
    "\n",
    "# # while value.lower() != \"q\":\n",
    "\n",
    "#     # Input for the ENTER key press\n",
    "#     # value = input()\n",
    "\n",
    "#     # The current lap-time\n",
    "#     # laptime = round((time.time() - lasttime), 2)\n",
    "\n",
    "#     # Total time elapsed since the timer started\n",
    "# totaltime = round((time.time() - starttime), 2)\n",
    "\n",
    "#     # Printing the lap number, lap-time, and total time\n",
    "#     # print(\"Lap No. \"+str(lapnum))\n",
    "# print(\"Total Time: \"+str(totaltime))\n",
    "#     # print(\"Lap Time: \"+str(laptime))\n",
    "\n",
    "    # print(\"*\"*20)\n",
    "\n",
    "    # Updating the previous total time and lap number\n",
    "    # lasttime = time.time()\n",
    "    # lapnum += 1\n",
    "\n",
    "# print(\"Exercise complete!\")\n"
   ]
  }
 ],
 "metadata": {
  "kernelspec": {
   "display_name": "base",
   "language": "python",
   "name": "python3"
  },
  "language_info": {
   "codemirror_mode": {
    "name": "ipython",
    "version": 3
   },
   "file_extension": ".py",
   "mimetype": "text/x-python",
   "name": "python",
   "nbconvert_exporter": "python",
   "pygments_lexer": "ipython3",
   "version": "3.11.7"
  }
 },
 "nbformat": 4,
 "nbformat_minor": 2
}
