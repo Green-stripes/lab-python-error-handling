{
 "cells": [
  {
   "cell_type": "markdown",
   "id": "25d7736c-ba17-4aff-b6bb-66eba20fbf4e",
   "metadata": {},
   "source": [
    "# Lab | Error Handling"
   ]
  },
  {
   "cell_type": "markdown",
   "id": "bc99b386-7508-47a0-bcdb-d969deaf6c8b",
   "metadata": {},
   "source": [
    "## Exercise: Error Handling for Managing Customer Orders\n",
    "\n",
    "The implementation of your code for managing customer orders assumes that the user will always enter a valid input. \n",
    "\n",
    "For example, we could modify the `initialize_inventory` function to include error handling.\n",
    "   - If the user enters an invalid quantity (e.g., a negative value or a non-numeric value), display an error message and ask them to re-enter the quantity for that product.\n",
    "   - Use a try-except block to handle the error and continue prompting the user until a valid quantity is entered.\n",
    "\n",
    "```python\n",
    "# Step 1: Define the function for initializing the inventory with error handling\n",
    "def initialize_inventory(products):\n",
    "    inventory = {}\n",
    "    for product in products:\n",
    "        valid_quantity = False\n",
    "        while not valid_quantity:\n",
    "            try:\n",
    "                quantity = int(input(f\"Enter the quantity of {product}s available: \"))\n",
    "                if quantity < 0:\n",
    "                    raise ValueError(\"Invalid quantity! Please enter a non-negative value.\")\n",
    "                valid_quantity = True\n",
    "            except ValueError as error:\n",
    "                print(f\"Error: {error}\")\n",
    "        inventory[product] = quantity\n",
    "    return inventory\n",
    "\n",
    "# Or, in another way:\n",
    "\n",
    "def initialize_inventory(products):\n",
    "    inventory = {}\n",
    "    for product in products:\n",
    "        valid_input = False\n",
    "        while not valid_input:\n",
    "            try:\n",
    "                quantity = int(input(f\"Enter the quantity of {product}s available: \"))\n",
    "                if quantity >= 0:\n",
    "                    inventory[product] = quantity\n",
    "                    valid_input = True\n",
    "                else:\n",
    "                    print(\"Quantity cannot be negative. Please enter a valid quantity.\")\n",
    "            except ValueError:\n",
    "                print(\"Invalid input. Please enter a valid quantity.\")\n",
    "    return inventory\n",
    "```\n",
    "\n",
    "Let's enhance your code by implementing error handling to handle invalid inputs.\n",
    "\n",
    "Follow the steps below to complete the exercise:\n",
    "\n",
    "2. Modify the `calculate_total_price` function to include error handling.\n",
    "   - If the user enters an invalid price (e.g., a negative value or a non-numeric value), display an error message and ask them to re-enter the price for that product.\n",
    "   - Use a try-except block to handle the error and continue prompting the user until a valid price is entered.\n",
    "\n",
    "3. Modify the `get_customer_orders` function to include error handling.\n",
    "   - If the user enters an invalid number of orders (e.g., a negative value or a non-numeric value), display an error message and ask them to re-enter the number of orders.\n",
    "   - If the user enters an invalid product name (e.g., a product name that is not in the inventory), or that doesn't have stock available, display an error message and ask them to re-enter the product name. *Hint: you will need to pass inventory as a parameter*\n",
    "   - Use a try-except block to handle the error and continue prompting the user until a valid product name is entered.\n",
    "\n",
    "4. Test your code by running the program and deliberately entering invalid quantities and product names. Make sure the error handling mechanism works as expected.\n"
   ]
  },
  {
   "cell_type": "code",
   "execution_count": 2,
   "id": "b9c3156d",
   "metadata": {},
   "outputs": [
    {
     "data": {
      "text/plain": [
       "{'apple': 4, 'jam': 2, 'bagel': 9}"
      ]
     },
     "execution_count": 2,
     "metadata": {},
     "output_type": "execute_result"
    }
   ],
   "source": [
    "def initialize_inventory(products):\n",
    "    inventory = {}\n",
    "    for product in products:\n",
    "        valid_quantity = False\n",
    "        while not valid_quantity:\n",
    "            try:\n",
    "                quantity = int(input(f\"Enter the quantity of {product}s available: \"))\n",
    "                if quantity < 0:\n",
    "                    raise ValueError(\"Invalid quantity! Please enter a non-negative value.\")\n",
    "                valid_quantity = True\n",
    "                inventory[product] = quantity\n",
    "            except ValueError as error:\n",
    "                print(f\"Error: {error}\")\n",
    "    return inventory\n",
    "\n",
    "products = [\"apple\", \"jam\", \"bagel\"]\n",
    "initialize_inventory(products)"
   ]
  },
  {
   "cell_type": "code",
   "execution_count": 1,
   "id": "652a85a5",
   "metadata": {},
   "outputs": [
    {
     "name": "stdout",
     "output_type": "stream",
     "text": [
      "You entered an invalid input!\n",
      "16\n"
     ]
    }
   ],
   "source": [
    "def calculate_total_price(products):\n",
    "    is_valid = False\n",
    "    while is_valid == False:\n",
    "        try:\n",
    "            prices= [int(input(f\"Enter the price of {product}\")) for product in products]\n",
    "            total = sum(prices)\n",
    "            is_valid = True\n",
    "            return total\n",
    "        except ValueError:\n",
    "            print(\"You entered an invalid input!\")\n",
    "\n",
    "products = [\"book\", \"key\", \"cup\"]\n",
    "\n",
    "print(calculate_total_price(products))\n",
    "#   def total_price(order):\n",
    "#     prices= [int(input(f\"Enter the price of {product}\")) for product in order]\n",
    "#     total = sum(prices)\n",
    "#     return total"
   ]
  },
  {
   "cell_type": "code",
   "execution_count": 8,
   "id": "2cf97826",
   "metadata": {},
   "outputs": [
    {
     "name": "stdout",
     "output_type": "stream",
     "text": [
      "You entered an invalid input!\n",
      "['book', 'apple']\n"
     ]
    }
   ],
   "source": [
    "def get_customer_orders(inventory):\n",
    "    customer_order = []\n",
    "    check_validity = False\n",
    "    while not check_validity:\n",
    "        try:\n",
    "            customer_order_number = int(input(\"How many items would you like to buy?\"))\n",
    "            if customer_order_number >= 0:\n",
    "                check_validity= True\n",
    "        except ValueError:\n",
    "            print(\"You entered an invalid input!\")\n",
    "\n",
    "    for i in range(customer_order_number):\n",
    "        item_check = False\n",
    "        while not item_check:\n",
    "            try:\n",
    "                potential_customer_order = input(\"What would you like to buy?\")\n",
    "                if inventory[potential_customer_order] > 0:\n",
    "                    customer_order.append(potential_customer_order)\n",
    "                    item_check = True\n",
    "            except:\n",
    "                print(\"You entered an invalid input!\")\n",
    "    return customer_order\n",
    "\n",
    "inventory = {'book':7, 'jam':0, 'apple':9}\n",
    "customer_order = get_customer_orders(inventory)\n",
    "\n",
    "print(customer_order)"
   ]
  }
 ],
 "metadata": {
  "kernelspec": {
   "display_name": "Python 3 (ipykernel)",
   "language": "python",
   "name": "python3"
  },
  "language_info": {
   "codemirror_mode": {
    "name": "ipython",
    "version": 3
   },
   "file_extension": ".py",
   "mimetype": "text/x-python",
   "name": "python",
   "nbconvert_exporter": "python",
   "pygments_lexer": "ipython3",
   "version": "3.11.7"
  }
 },
 "nbformat": 4,
 "nbformat_minor": 5
}
